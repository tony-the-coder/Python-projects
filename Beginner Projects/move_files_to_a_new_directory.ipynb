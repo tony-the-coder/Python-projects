{
 "cells": [
  {
   "cell_type": "code",
   "execution_count": 4,
   "metadata": {},
   "outputs": [],
   "source": [
    "import os \n",
    "import shutil"
   ]
  },
  {
   "cell_type": "code",
   "execution_count": 17,
   "metadata": {},
   "outputs": [
    {
     "name": "stdout",
     "output_type": "stream",
     "text": [
      "C:\\Users\\tonyt\\Desktop\\Again\\Computing\\.obsidian\n",
      "C:\\Users\\tonyt\\Desktop\\Again\\Computing\\1 Cybersecurity\n",
      "C:\\Users\\tonyt\\Desktop\\Again\\Computing\\10 Security+\n",
      "C:\\Users\\tonyt\\Desktop\\Again\\Computing\\11 Cloud\n",
      "C:\\Users\\tonyt\\Desktop\\Again\\Computing\\12 Programming\n",
      "C:\\Users\\tonyt\\Desktop\\Again\\Computing\\13 IAM\n",
      "C:\\Users\\tonyt\\Desktop\\Again\\Computing\\14 Web Technologies\n",
      "C:\\Users\\tonyt\\Desktop\\Again\\Computing\\15 Defense\n",
      "C:\\Users\\tonyt\\Desktop\\Again\\Computing\\16 SIEM\n",
      "C:\\Users\\tonyt\\Desktop\\Again\\Computing\\16 _ SEIM.md\n",
      "C:\\Users\\tonyt\\Desktop\\Again\\Computing\\16a _ Splunk.md\n",
      "C:\\Users\\tonyt\\Desktop\\Again\\Computing\\17 Architecture\n",
      "C:\\Users\\tonyt\\Desktop\\Again\\Computing\\18 Organizations\n",
      "C:\\Users\\tonyt\\Desktop\\Again\\Computing\\19 Digital Privacy\n",
      "C:\\Users\\tonyt\\Desktop\\Again\\Computing\\2 NIST\n",
      "C:\\Users\\tonyt\\Desktop\\Again\\Computing\\20 _ Threats.md\n",
      "C:\\Users\\tonyt\\Desktop\\Again\\Computing\\20a _ Malware Types.md\n",
      "C:\\Users\\tonyt\\Desktop\\Again\\Computing\\20a1 _ Virus.md\n",
      "C:\\Users\\tonyt\\Desktop\\Again\\Computing\\20a2 _ Worm.md\n",
      "C:\\Users\\tonyt\\Desktop\\Again\\Computing\\20a3 _ Trojan.md\n",
      "C:\\Users\\tonyt\\Desktop\\Again\\Computing\\20a4 _ Ransomware.md\n",
      "C:\\Users\\tonyt\\Desktop\\Again\\Computing\\20b _ Attack Types.md\n",
      "C:\\Users\\tonyt\\Desktop\\Again\\Computing\\20b1 _ Denial of Service (DoS DDoS).md\n",
      "C:\\Users\\tonyt\\Desktop\\Again\\Computing\\20b2 _ SQL Injection.md\n",
      "C:\\Users\\tonyt\\Desktop\\Again\\Computing\\20b3 _ Cross-Site Scripting (XSS).md\n",
      "C:\\Users\\tonyt\\Desktop\\Again\\Computing\\20b4 _ Man-in-the-Middle Attacks.md\n",
      "C:\\Users\\tonyt\\Desktop\\Again\\Computing\\3 Access Controls\n",
      "C:\\Users\\tonyt\\Desktop\\Again\\Computing\\4 Pen Testing\n",
      "C:\\Users\\tonyt\\Desktop\\Again\\Computing\\5 Cybersecurity Tools\n",
      "C:\\Users\\tonyt\\Desktop\\Again\\Computing\\6 Cybersecurity Architecture\n",
      "C:\\Users\\tonyt\\Desktop\\Again\\Computing\\6a1 _ Layered Security.md\n",
      "C:\\Users\\tonyt\\Desktop\\Again\\Computing\\6a1a _ Network.md\n",
      "C:\\Users\\tonyt\\Desktop\\Again\\Computing\\6a1b _ Host.md\n",
      "C:\\Users\\tonyt\\Desktop\\Again\\Computing\\6a1c _ Application.md\n",
      "C:\\Users\\tonyt\\Desktop\\Again\\Computing\\6b _ Zero Trust Architecture.md\n",
      "C:\\Users\\tonyt\\Desktop\\Again\\Computing\\6b1 _ Principles (never trust, always verify).md\n",
      "C:\\Users\\tonyt\\Desktop\\Again\\Computing\\6b2 _ Implementation Considerations.md\n",
      "C:\\Users\\tonyt\\Desktop\\Again\\Computing\\7 OWASP\n",
      "C:\\Users\\tonyt\\Desktop\\Again\\Computing\\7a _ 7A _ OWASP Top 10 .md\n",
      "C:\\Users\\tonyt\\Desktop\\Again\\Computing\\8 OSINT\n",
      "C:\\Users\\tonyt\\Desktop\\Again\\Computing\\8 _ OSINT.md\n",
      "C:\\Users\\tonyt\\Desktop\\Again\\Computing\\8a _ Fingerprinting.md\n",
      "C:\\Users\\tonyt\\Desktop\\Again\\Computing\\8b _ Info Gathering Web Edition.md\n",
      "C:\\Users\\tonyt\\Desktop\\Again\\Computing\\9 Networking\n",
      "C:\\Users\\tonyt\\Desktop\\Again\\Computing\\9f1 _ Network Access Layer.md\n",
      "C:\\Users\\tonyt\\Desktop\\Again\\Computing\\9f2 _ Internet Layer.md\n",
      "C:\\Users\\tonyt\\Desktop\\Again\\Computing\\9f3 _ Transport Layer.md\n",
      "C:\\Users\\tonyt\\Desktop\\Again\\Computing\\9f4 _ Application Layer.md\n",
      "C:\\Users\\tonyt\\Desktop\\Again\\Computing\\Home.md\n",
      "C:\\Users\\tonyt\\Desktop\\Again\\Computing\\List of all current notes.md\n",
      "C:\\Users\\tonyt\\Desktop\\Again\\Computing\\Readwise\n"
     ]
    }
   ],
   "source": [
    "''' Moving files from a subfolder to a parent folder.\n",
    "The the first thing that must be done is to define the parent folder so that Python knows where to look'''\n",
    "\n",
    "parent_folder = \"C:\\\\Users\\\\tonyt\\\\Desktop\\\\Again\\\\Computing\"\n",
    "\n",
    "\n",
    "'''Checking to see that Python can access the directory'''\n",
    "\n",
    "# if os.path.isdir(\"C:\\\\Users\\\\tonyt\\\\Desktop\\\\Again\\\\Computing\"):\n",
    "#     print(\"It is a directory\")\n",
    "# else:\n",
    "#     print(\"It is not a directory\")\n",
    "\n",
    "\n",
    "'''Verifying that we can loop through the directory and locate all of the files within the specified directory with no passwords of orther extra steps needed'''\n",
    "\n",
    "# for subfolders_name in os.listdir(parent_folder):\n",
    "#     subfolders_path = os.path.join(parent_folder, subfolders_name)\n",
    "#     print(subfolders_path)\n",
    "    \n",
    "\n",
    "for subfolder_name in os.path.isdir(\"C:\\\\Users\\\\tonyt\\\\Desktop\\\\Again\\\\Computing\"):\n",
    "        \n",
    "\n"
   ]
  }
 ],
 "metadata": {
  "kernelspec": {
   "display_name": "Python 3",
   "language": "python",
   "name": "python3"
  },
  "language_info": {
   "codemirror_mode": {
    "name": "ipython",
    "version": 3
   },
   "file_extension": ".py",
   "mimetype": "text/x-python",
   "name": "python",
   "nbconvert_exporter": "python",
   "pygments_lexer": "ipython3",
   "version": "3.11.7"
  }
 },
 "nbformat": 4,
 "nbformat_minor": 2
}
